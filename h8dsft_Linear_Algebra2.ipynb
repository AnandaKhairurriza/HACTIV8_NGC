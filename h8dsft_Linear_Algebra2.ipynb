{
 "cells": [
  {
   "cell_type": "markdown",
   "metadata": {},
   "source": [
    "### Soal 1"
   ]
  },
  {
   "cell_type": "code",
   "execution_count": 2,
   "metadata": {},
   "outputs": [
    {
     "name": "stdout",
     "output_type": "stream",
     "text": [
      "[[[[23, 50], [7, 12]], [[57, 67], [99, 43]]], [[[75, 21], [57, 12]], [[87, 26], [18, 84]]]]\n"
     ]
    }
   ],
   "source": [
    "import numpy as np\n",
    "\n",
    "a = [[[[23, 50], [7, 12]], [[57, 67], [99, 43]]], [[[75, 21], [57, 12]], [[87, 26],[18, 84]]]]\n",
    "ten_a = np.array(a)\n",
    "print(a)"
   ]
  },
  {
   "cell_type": "markdown",
   "metadata": {},
   "source": [
    "### Soal 2"
   ]
  },
  {
   "cell_type": "code",
   "execution_count": 3,
   "metadata": {},
   "outputs": [
    {
     "name": "stdout",
     "output_type": "stream",
     "text": [
      "[[1852]\n",
      " [2454]\n",
      " [4305]]\n"
     ]
    }
   ],
   "source": [
    "a = [[23, 50, 19], [7, 12, 109], [57, 67, 98]]\n",
    "b = [[17], [22], [19]]\n",
    "mat_a = np.array(a)\n",
    "mat_b = np.array(b)\n",
    "\n",
    "# A * B\n",
    "print(mat_a @ mat_b)"
   ]
  },
  {
   "cell_type": "markdown",
   "metadata": {},
   "source": [
    "### Soal 3"
   ]
  },
  {
   "cell_type": "code",
   "execution_count": 7,
   "metadata": {},
   "outputs": [
    {
     "name": "stdout",
     "output_type": "stream",
     "text": [
      "[[ 23   7  57]\n",
      " [ 50  12  67]\n",
      " [ 19 109  98]]\n",
      "131344\n",
      "[[-0.0466485  -0.02761451  0.03975819]\n",
      " [ 0.04208034  0.00891552 -0.01807467]\n",
      " [-0.00163692  0.0099662  -0.00056341]]\n"
     ]
    }
   ],
   "source": [
    "a = [[23, 50, 19], [7, 12, 109], [57, 67, 98]]\n",
    "mat_a = np.array(a)\n",
    "\n",
    "#Transpose matrix a\n",
    "tran_a = mat_a.transpose()\n",
    "print(tran_a)\n",
    "\n",
    "#Determinant matrix a\n",
    "det_a = np.linalg.det(mat_a)\n",
    "print(round(det_a))\n",
    "\n",
    "#Inverse matrix a\n",
    "inv_a = np.linalg.inv(mat_a)\n",
    "print(inv_a)"
   ]
  }
 ],
 "metadata": {
  "kernelspec": {
   "display_name": "Python 3.11.0 64-bit",
   "language": "python",
   "name": "python3"
  },
  "language_info": {
   "codemirror_mode": {
    "name": "ipython",
    "version": 3
   },
   "file_extension": ".py",
   "mimetype": "text/x-python",
   "name": "python",
   "nbconvert_exporter": "python",
   "pygments_lexer": "ipython3",
   "version": "3.11.0"
  },
  "orig_nbformat": 4,
  "vscode": {
   "interpreter": {
    "hash": "de47f5c92c0ee6f12a59a5613ac5feff6aab19ddff207ba0b3964cced08c4ccc"
   }
  }
 },
 "nbformat": 4,
 "nbformat_minor": 2
}
