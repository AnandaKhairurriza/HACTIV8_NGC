{
 "cells": [
  {
   "cell_type": "markdown",
   "metadata": {},
   "source": [
    "Apakah [1, 3] adalah eigen vector dari [[1 −1], [6 4]]? Jika Iya, berapakah eigen value-nya?"
   ]
  },
  {
   "cell_type": "code",
   "execution_count": 17,
   "metadata": {},
   "outputs": [
    {
     "name": "stdout",
     "output_type": "stream",
     "text": [
      "[2.5+1.93649167j 2.5-1.93649167j]\n",
      "[[-0.23145502+0.29880715j -0.23145502-0.29880715j]\n",
      " [ 0.9258201 +0.j          0.9258201 -0.j        ]]\n",
      "\n",
      "\n",
      "Eugen Value 1 : 2.5\n",
      "Eugen Value 2 : 2.5\n",
      "Eugen Vector 1 : [-0.23  0.93]\n",
      "Eugen Vector 2 : [-0.23  0.93]\n"
     ]
    }
   ],
   "source": [
    "import numpy as np\n",
    "m = [[1, -1], [6, 4]]\n",
    "mat_m = np.array(m) #Ubah ke array\n",
    "\n",
    "valE, vecE = np.linalg.eig(mat_m) #Mengambil nilai eigen value dan eigen vector dari matriks\n",
    "print(valE) #Eigen value\n",
    "print(vecE) #Eigen vector\n",
    "print('\\n')\n",
    "\n",
    "print(\"Eugen Value 1 :\", valE[0].real)\n",
    "print(\"Eugen Value 2 :\", valE[1].real)\n",
    "print(\"Eugen Vector 1 :\", vecE[:,0].real.round(2))\n",
    "print(\"Eugen Vector 2 :\", vecE[:,0].real.round(2))"
   ]
  },
  {
   "attachments": {},
   "cell_type": "markdown",
   "metadata": {},
   "source": [
    "Matriks [[1, -1], [6, 4]] mempunyai nilai value eigen, yaitu 2,5. Untuk vector eigen-nya adalah [-0.23  0.93]. Sehingga dapat dikatakan vector [1, 3] bukan eigen vector dari matriks [[1 −1], [6 4]]"
   ]
  }
 ],
 "metadata": {
  "kernelspec": {
   "display_name": "Python 3.11.0 64-bit",
   "language": "python",
   "name": "python3"
  },
  "language_info": {
   "codemirror_mode": {
    "name": "ipython",
    "version": 3
   },
   "file_extension": ".py",
   "mimetype": "text/x-python",
   "name": "python",
   "nbconvert_exporter": "python",
   "pygments_lexer": "ipython3",
   "version": "3.11.0"
  },
  "orig_nbformat": 4,
  "vscode": {
   "interpreter": {
    "hash": "de47f5c92c0ee6f12a59a5613ac5feff6aab19ddff207ba0b3964cced08c4ccc"
   }
  }
 },
 "nbformat": 4,
 "nbformat_minor": 2
}
