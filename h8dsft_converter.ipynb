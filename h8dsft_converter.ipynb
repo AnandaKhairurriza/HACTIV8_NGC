{
 "cells": [
  {
   "cell_type": "code",
   "execution_count": null,
   "metadata": {},
   "outputs": [],
   "source": [
    "# Function"
   ]
  },
  {
   "cell_type": "code",
   "execution_count": 1,
   "metadata": {},
   "outputs": [
    {
     "name": "stdout",
     "output_type": "stream",
     "text": [
      "276.0 K\n",
      "126.85°C\n",
      "33.8°F\n",
      "-20.47°F\n",
      "5.0\n",
      "273.15\n"
     ]
    }
   ],
   "source": [
    "def celToKel(x):\n",
    "    kel = float(x) + 273.15;\n",
    "    kel = round(kel,2);\n",
    "    kel = str(kel);\n",
    "    print(kel+\" K\");\n",
    "\n",
    "def kelToCel(x):\n",
    "    cel = float(x) - 273.15;\n",
    "    cel = round(cel,2);\n",
    "    cel = str(cel);\n",
    "    print(cel+\"°C\");\n",
    "\n",
    "def anyToFah(x):\n",
    "    if ('°c' in x or '°C' in x):\n",
    "        sep = '°';\n",
    "        x = x.split(sep, 1)[0];\n",
    "        fah = (float(x) * 9/5) +32;\n",
    "        fah = round(fah,2);\n",
    "        fah = str(fah);\n",
    "        print(fah+\"°F\");\n",
    "    \n",
    "    elif ('k' in x or 'K' in x):\n",
    "        sep = 'k';\n",
    "        sep2 = 'K';\n",
    "        x = x.split(sep, 1)[0];\n",
    "        x = x.split(sep2, 1)[0];\n",
    "        fah = (float(x) - 273.15)  * 9/5 + 32;\n",
    "        fah = round(fah,2);\n",
    "        fah = str(fah);\n",
    "        print(fah+\"°F\")\n",
    "\n",
    "    else:\n",
    "        print(\"Input is not Celcius or Kelvin!\");\n",
    "\n",
    "def fahToCel(x):\n",
    "    if ('°f' in x or '°F' in x):\n",
    "        sep = '°';\n",
    "        x = x.split(sep, 1)[0];\n",
    "        cel = (float(x) - 32)  * 5/9;\n",
    "        print(round(cel,2));\n",
    "\n",
    "    else:\n",
    "        print(\"Input is not Fahrenheit!\");\n",
    "\n",
    "def fahToKel(x):\n",
    "    if ('°f' in x or '°F' in x):\n",
    "        sep = '°';\n",
    "        x = x.split(sep, 1)[0];\n",
    "        kel = (float(x) - 32)  * 5/9 + 273.15;\n",
    "        print(round(kel,2));\n",
    "        \n",
    "    else:\n",
    "        print(\"Input is not Fahrenheit!\");\n",
    "\n",
    "celToKel(2.85);\n",
    "kelToCel(400);\n",
    "\n",
    "anyToFah('1°c');\n",
    "anyToFah('244K');\n",
    "fahToCel('41°f');\n",
    "fahToKel('32°F');"
   ]
  }
 ],
 "metadata": {
  "kernelspec": {
   "display_name": "Python 3.11.0 64-bit",
   "language": "python",
   "name": "python3"
  },
  "language_info": {
   "codemirror_mode": {
    "name": "ipython",
    "version": 3
   },
   "file_extension": ".py",
   "mimetype": "text/x-python",
   "name": "python",
   "nbconvert_exporter": "python",
   "pygments_lexer": "ipython3",
   "version": "3.11.0"
  },
  "orig_nbformat": 4,
  "vscode": {
   "interpreter": {
    "hash": "de47f5c92c0ee6f12a59a5613ac5feff6aab19ddff207ba0b3964cced08c4ccc"
   }
  }
 },
 "nbformat": 4,
 "nbformat_minor": 2
}
